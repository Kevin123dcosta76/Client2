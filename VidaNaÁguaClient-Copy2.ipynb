{
 "cells": [
  {
   "cell_type": "code",
   "execution_count": 1,
   "id": "f39d8f29",
   "metadata": {},
   "outputs": [
    {
     "name": "stdout",
     "output_type": "stream",
     "text": [
      "Requirement already satisfied: zmq in c:\\users\\user\\anaconda3\\lib\\site-packages (0.0.0)\n",
      "Requirement already satisfied: pyzmq in c:\\users\\user\\anaconda3\\lib\\site-packages (from zmq) (22.2.1)\n"
     ]
    }
   ],
   "source": [
    "!pip install zmq"
   ]
  },
  {
   "cell_type": "code",
   "execution_count": null,
   "id": "f5deabac",
   "metadata": {},
   "outputs": [],
   "source": [
    "import zmq\n",
    "\n",
    "context= zmq.Context()\n",
    "socket=context.socket(zmq.REQ)\n",
    "socket.connect(\"tcp://127.0.0.1:12345\")\n",
    "\n",
    "while True:\n",
    "    \n",
    "    msg= input('You:   ')\n",
    "    socket.send(msg.encode())\n",
    "    smsg= socket.recv()\n",
    "    print('From Resposta : ',smsg.decode())\n",
    "    print('')\n",
    "    \n",
    "\n"
   ]
  }
 ],
 "metadata": {
  "celltoolbar": "Edit Metadata",
  "kernelspec": {
   "display_name": "Python 3 (ipykernel)",
   "language": "python",
   "name": "python3"
  },
  "language_info": {
   "codemirror_mode": {
    "name": "ipython",
    "version": 3
   },
   "file_extension": ".py",
   "mimetype": "text/x-python",
   "name": "python",
   "nbconvert_exporter": "python",
   "pygments_lexer": "ipython3",
   "version": "3.9.7"
  }
 },
 "nbformat": 4,
 "nbformat_minor": 5
}
